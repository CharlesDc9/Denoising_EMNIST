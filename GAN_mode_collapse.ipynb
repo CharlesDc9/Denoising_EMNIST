{
 "cells": [
  {
   "cell_type": "markdown",
   "metadata": {},
   "source": [
    "# Generating fake MNIST images using GANs"
   ]
  },
  {
   "cell_type": "code",
   "execution_count": 1,
   "metadata": {},
   "outputs": [],
   "source": [
    "# IMPORTS\n",
    "import os\n",
    "import torch\n",
    "import torchvision\n",
    "import torch.nn as nn\n",
    "from torchvision import transforms\n",
    "from torchvision.utils import save_image"
   ]
  },
  {
   "cell_type": "markdown",
   "metadata": {},
   "source": [
    "## 1. Setting up the environment"
   ]
  },
  {
   "cell_type": "code",
   "execution_count": 2,
   "metadata": {},
   "outputs": [],
   "source": [
    "device = torch.device('mps')"
   ]
  },
  {
   "cell_type": "code",
   "execution_count": 3,
   "metadata": {},
   "outputs": [],
   "source": [
    "# Hyper-parameters\n",
    "latent_size = 64\n",
    "hidden_size = 256\n",
    "image_size = 784\n",
    "num_epochs = 200\n",
    "batch_size = 100\n",
    "sample_dir = 'samples'"
   ]
  },
  {
   "cell_type": "code",
   "execution_count": 4,
   "metadata": {},
   "outputs": [],
   "source": [
    "# Create a directory if not exists\n",
    "if not os.path.exists(sample_dir):\n",
    "    os.makedirs(sample_dir)"
   ]
  },
  {
   "cell_type": "code",
   "execution_count": 5,
   "metadata": {},
   "outputs": [],
   "source": [
    "transform = transforms.Compose([\n",
    "                transforms.ToTensor(),\n",
    "                transforms.Normalize(mean=[0.5],   # 1 for greyscale channels\n",
    "                                     std=[0.5])])"
   ]
  },
  {
   "cell_type": "code",
   "execution_count": 6,
   "metadata": {},
   "outputs": [],
   "source": [
    "# MNIST dataset\n",
    "mnist = torchvision.datasets.MNIST(root='./data/',\n",
    "                                   train=True,\n",
    "                                   transform=transform,\n",
    "                                   download=True)"
   ]
  },
  {
   "cell_type": "code",
   "execution_count": 7,
   "metadata": {},
   "outputs": [],
   "source": [
    "data_loader = torch.utils.data.DataLoader(dataset=mnist,\n",
    "                                          batch_size=batch_size, \n",
    "                                          shuffle=True)"
   ]
  },
  {
   "cell_type": "code",
   "execution_count": 8,
   "metadata": {},
   "outputs": [],
   "source": [
    "# Discriminator\n",
    "D = nn.Sequential(\n",
    "    nn.Linear(image_size, hidden_size),\n",
    "    nn.LeakyReLU(0.2),\n",
    "    nn.Linear(hidden_size, hidden_size),\n",
    "    nn.LeakyReLU(0.2),\n",
    "    nn.Linear(hidden_size, 1),\n",
    "    nn.Sigmoid())"
   ]
  },
  {
   "cell_type": "code",
   "execution_count": 9,
   "metadata": {},
   "outputs": [],
   "source": [
    "# Generator \n",
    "G = nn.Sequential(\n",
    "    nn.Linear(latent_size, hidden_size),\n",
    "    nn.ReLU(),\n",
    "    nn.Linear(hidden_size, hidden_size),\n",
    "    nn.ReLU(),\n",
    "    nn.Linear(hidden_size, image_size),\n",
    "    nn.Tanh())"
   ]
  },
  {
   "cell_type": "code",
   "execution_count": 10,
   "metadata": {},
   "outputs": [],
   "source": [
    "# Device setting\n",
    "D = D.to(device)\n",
    "G = G.to(device)"
   ]
  },
  {
   "cell_type": "code",
   "execution_count": 11,
   "metadata": {},
   "outputs": [],
   "source": [
    "# Binary cross entropy loss and optimizer\n",
    "criterion = nn.BCELoss()\n",
    "d_optimizer = torch.optim.Adam(D.parameters(), lr=0.0002)\n",
    "g_optimizer = torch.optim.Adam(G.parameters(), lr=0.0002)"
   ]
  },
  {
   "cell_type": "code",
   "execution_count": 12,
   "metadata": {},
   "outputs": [],
   "source": [
    "def denorm(x):\n",
    "    out = (x + 1) / 2\n",
    "    return out.clamp(0, 1)"
   ]
  },
  {
   "cell_type": "code",
   "execution_count": 13,
   "metadata": {},
   "outputs": [],
   "source": [
    "def reset_grad():\n",
    "    d_optimizer.zero_grad()\n",
    "    g_optimizer.zero_grad()"
   ]
  },
  {
   "cell_type": "code",
   "execution_count": null,
   "metadata": {},
   "outputs": [
    {
     "name": "stdout",
     "output_type": "stream",
     "text": [
      "Epoch [0/200], Step [200/600], d_loss: 0.0793, g_loss: 3.6271, D(x): 0.99, D(G(z)): 0.07\n",
      "Epoch [0/200], Step [400/600], d_loss: 0.0554, g_loss: 5.2634, D(x): 0.98, D(G(z)): 0.03\n",
      "Epoch [0/200], Step [600/600], d_loss: 0.0251, g_loss: 5.7236, D(x): 0.99, D(G(z)): 0.01\n",
      "Epoch [1/200], Step [200/600], d_loss: 0.0715, g_loss: 4.8538, D(x): 0.97, D(G(z)): 0.03\n",
      "Epoch [1/200], Step [400/600], d_loss: 0.3256, g_loss: 3.6505, D(x): 0.88, D(G(z)): 0.08\n",
      "Epoch [1/200], Step [600/600], d_loss: 0.2443, g_loss: 5.2750, D(x): 0.94, D(G(z)): 0.13\n",
      "Epoch [2/200], Step [200/600], d_loss: 0.1027, g_loss: 4.2584, D(x): 0.96, D(G(z)): 0.05\n",
      "Epoch [2/200], Step [400/600], d_loss: 0.3481, g_loss: 3.3543, D(x): 0.91, D(G(z)): 0.17\n",
      "Epoch [2/200], Step [600/600], d_loss: 0.2699, g_loss: 3.9574, D(x): 0.91, D(G(z)): 0.11\n",
      "Epoch [3/200], Step [200/600], d_loss: 0.1774, g_loss: 5.2320, D(x): 0.93, D(G(z)): 0.05\n",
      "Epoch [3/200], Step [400/600], d_loss: 0.6420, g_loss: 3.5765, D(x): 0.79, D(G(z)): 0.18\n",
      "Epoch [3/200], Step [600/600], d_loss: 0.1958, g_loss: 3.4051, D(x): 0.94, D(G(z)): 0.10\n",
      "Epoch [4/200], Step [200/600], d_loss: 0.1687, g_loss: 4.3850, D(x): 0.94, D(G(z)): 0.09\n",
      "Epoch [4/200], Step [400/600], d_loss: 0.1102, g_loss: 4.0210, D(x): 0.97, D(G(z)): 0.06\n",
      "Epoch [4/200], Step [600/600], d_loss: 0.2088, g_loss: 4.2671, D(x): 0.96, D(G(z)): 0.12\n",
      "Epoch [5/200], Step [200/600], d_loss: 0.1148, g_loss: 5.2863, D(x): 0.96, D(G(z)): 0.03\n",
      "Epoch [5/200], Step [400/600], d_loss: 0.0848, g_loss: 4.7724, D(x): 0.98, D(G(z)): 0.06\n",
      "Epoch [5/200], Step [600/600], d_loss: 0.1579, g_loss: 4.1905, D(x): 0.98, D(G(z)): 0.10\n",
      "Epoch [6/200], Step [200/600], d_loss: 0.1436, g_loss: 3.9471, D(x): 0.98, D(G(z)): 0.07\n",
      "Epoch [6/200], Step [400/600], d_loss: 0.2332, g_loss: 4.2218, D(x): 0.91, D(G(z)): 0.04\n",
      "Epoch [6/200], Step [600/600], d_loss: 0.1452, g_loss: 4.7059, D(x): 0.93, D(G(z)): 0.03\n",
      "Epoch [7/200], Step [200/600], d_loss: 0.3786, g_loss: 2.8013, D(x): 0.89, D(G(z)): 0.06\n",
      "Epoch [7/200], Step [400/600], d_loss: 0.1805, g_loss: 3.9699, D(x): 0.96, D(G(z)): 0.08\n",
      "Epoch [7/200], Step [600/600], d_loss: 0.2776, g_loss: 3.9313, D(x): 0.94, D(G(z)): 0.11\n",
      "Epoch [8/200], Step [200/600], d_loss: 0.0616, g_loss: 6.0279, D(x): 0.97, D(G(z)): 0.01\n",
      "Epoch [8/200], Step [400/600], d_loss: 0.1915, g_loss: 6.0657, D(x): 0.92, D(G(z)): 0.01\n",
      "Epoch [8/200], Step [600/600], d_loss: 0.1334, g_loss: 6.5611, D(x): 0.95, D(G(z)): 0.02\n",
      "Epoch [9/200], Step [200/600], d_loss: 0.2124, g_loss: 7.5473, D(x): 0.99, D(G(z)): 0.14\n",
      "Epoch [9/200], Step [400/600], d_loss: 0.1872, g_loss: 5.2697, D(x): 0.94, D(G(z)): 0.05\n",
      "Epoch [9/200], Step [600/600], d_loss: 0.1985, g_loss: 4.8877, D(x): 0.91, D(G(z)): 0.02\n",
      "Epoch [10/200], Step [200/600], d_loss: 0.1839, g_loss: 4.4042, D(x): 0.93, D(G(z)): 0.06\n",
      "Epoch [10/200], Step [400/600], d_loss: 0.1815, g_loss: 4.8009, D(x): 0.97, D(G(z)): 0.09\n",
      "Epoch [10/200], Step [600/600], d_loss: 0.1634, g_loss: 6.4365, D(x): 0.92, D(G(z)): 0.01\n",
      "Epoch [11/200], Step [200/600], d_loss: 0.1281, g_loss: 3.7606, D(x): 0.94, D(G(z)): 0.03\n",
      "Epoch [11/200], Step [400/600], d_loss: 0.2607, g_loss: 3.1748, D(x): 0.93, D(G(z)): 0.05\n",
      "Epoch [11/200], Step [600/600], d_loss: 0.3575, g_loss: 5.0195, D(x): 0.94, D(G(z)): 0.07\n",
      "Epoch [12/200], Step [200/600], d_loss: 0.1137, g_loss: 6.2641, D(x): 0.98, D(G(z)): 0.06\n",
      "Epoch [12/200], Step [400/600], d_loss: 0.2144, g_loss: 4.8802, D(x): 0.91, D(G(z)): 0.04\n",
      "Epoch [12/200], Step [600/600], d_loss: 0.2903, g_loss: 4.3433, D(x): 0.90, D(G(z)): 0.06\n",
      "Epoch [13/200], Step [200/600], d_loss: 0.1923, g_loss: 4.9126, D(x): 0.95, D(G(z)): 0.10\n",
      "Epoch [13/200], Step [400/600], d_loss: 0.3291, g_loss: 3.2947, D(x): 0.91, D(G(z)): 0.15\n",
      "Epoch [13/200], Step [600/600], d_loss: 0.6105, g_loss: 4.1170, D(x): 0.94, D(G(z)): 0.26\n",
      "Epoch [14/200], Step [200/600], d_loss: 0.1618, g_loss: 5.4508, D(x): 0.92, D(G(z)): 0.02\n",
      "Epoch [14/200], Step [400/600], d_loss: 0.2866, g_loss: 6.1257, D(x): 0.88, D(G(z)): 0.03\n",
      "Epoch [14/200], Step [600/600], d_loss: 0.3309, g_loss: 3.8422, D(x): 0.89, D(G(z)): 0.04\n",
      "Epoch [15/200], Step [200/600], d_loss: 0.2397, g_loss: 5.6609, D(x): 0.98, D(G(z)): 0.12\n",
      "Epoch [15/200], Step [400/600], d_loss: 0.3019, g_loss: 4.8867, D(x): 0.94, D(G(z)): 0.10\n",
      "Epoch [15/200], Step [600/600], d_loss: 0.2120, g_loss: 5.9564, D(x): 0.92, D(G(z)): 0.03\n",
      "Epoch [16/200], Step [200/600], d_loss: 0.1152, g_loss: 6.1542, D(x): 0.98, D(G(z)): 0.07\n",
      "Epoch [16/200], Step [400/600], d_loss: 0.1293, g_loss: 7.6702, D(x): 0.95, D(G(z)): 0.02\n",
      "Epoch [16/200], Step [600/600], d_loss: 0.0612, g_loss: 5.9085, D(x): 0.97, D(G(z)): 0.01\n",
      "Epoch [17/200], Step [200/600], d_loss: 0.3082, g_loss: 6.4970, D(x): 0.89, D(G(z)): 0.02\n",
      "Epoch [17/200], Step [400/600], d_loss: 0.2675, g_loss: 5.3723, D(x): 0.91, D(G(z)): 0.01\n",
      "Epoch [17/200], Step [600/600], d_loss: 0.1755, g_loss: 6.2326, D(x): 0.93, D(G(z)): 0.01\n",
      "Epoch [18/200], Step [200/600], d_loss: 0.1548, g_loss: 5.6615, D(x): 0.95, D(G(z)): 0.03\n",
      "Epoch [18/200], Step [400/600], d_loss: 0.0621, g_loss: 5.1775, D(x): 0.98, D(G(z)): 0.03\n",
      "Epoch [18/200], Step [600/600], d_loss: 0.0588, g_loss: 5.5303, D(x): 0.99, D(G(z)): 0.04\n",
      "Epoch [19/200], Step [200/600], d_loss: 0.3080, g_loss: 3.5424, D(x): 0.92, D(G(z)): 0.10\n",
      "Epoch [19/200], Step [400/600], d_loss: 0.2081, g_loss: 4.4620, D(x): 0.97, D(G(z)): 0.11\n",
      "Epoch [19/200], Step [600/600], d_loss: 0.2605, g_loss: 6.4288, D(x): 0.92, D(G(z)): 0.03\n",
      "Epoch [20/200], Step [200/600], d_loss: 0.2890, g_loss: 6.9297, D(x): 0.93, D(G(z)): 0.02\n",
      "Epoch [20/200], Step [400/600], d_loss: 0.1249, g_loss: 3.9567, D(x): 0.95, D(G(z)): 0.05\n",
      "Epoch [20/200], Step [600/600], d_loss: 0.1294, g_loss: 5.1272, D(x): 1.00, D(G(z)): 0.10\n",
      "Epoch [21/200], Step [200/600], d_loss: 0.2164, g_loss: 3.9589, D(x): 0.92, D(G(z)): 0.04\n",
      "Epoch [21/200], Step [400/600], d_loss: 0.2484, g_loss: 6.5590, D(x): 0.92, D(G(z)): 0.02\n",
      "Epoch [21/200], Step [600/600], d_loss: 0.1220, g_loss: 3.5010, D(x): 0.97, D(G(z)): 0.06\n",
      "Epoch [22/200], Step [200/600], d_loss: 0.2333, g_loss: 6.4360, D(x): 0.93, D(G(z)): 0.06\n",
      "Epoch [22/200], Step [400/600], d_loss: 0.2234, g_loss: 4.0732, D(x): 0.93, D(G(z)): 0.05\n",
      "Epoch [22/200], Step [600/600], d_loss: 0.2061, g_loss: 4.6251, D(x): 0.97, D(G(z)): 0.10\n",
      "Epoch [23/200], Step [200/600], d_loss: 0.1246, g_loss: 4.8096, D(x): 0.96, D(G(z)): 0.05\n",
      "Epoch [23/200], Step [400/600], d_loss: 0.3405, g_loss: 3.7923, D(x): 0.94, D(G(z)): 0.15\n",
      "Epoch [23/200], Step [600/600], d_loss: 0.3240, g_loss: 3.8998, D(x): 0.92, D(G(z)): 0.07\n",
      "Epoch [24/200], Step [200/600], d_loss: 0.1621, g_loss: 4.6973, D(x): 0.93, D(G(z)): 0.03\n",
      "Epoch [24/200], Step [400/600], d_loss: 0.2152, g_loss: 3.9238, D(x): 0.95, D(G(z)): 0.07\n",
      "Epoch [24/200], Step [600/600], d_loss: 0.2284, g_loss: 2.9408, D(x): 0.97, D(G(z)): 0.14\n",
      "Epoch [25/200], Step [200/600], d_loss: 0.3266, g_loss: 4.4623, D(x): 0.89, D(G(z)): 0.07\n",
      "Epoch [25/200], Step [400/600], d_loss: 0.2578, g_loss: 5.7643, D(x): 0.91, D(G(z)): 0.07\n",
      "Epoch [25/200], Step [600/600], d_loss: 0.4787, g_loss: 6.0114, D(x): 0.98, D(G(z)): 0.29\n",
      "Epoch [26/200], Step [200/600], d_loss: 0.2560, g_loss: 4.7835, D(x): 0.98, D(G(z)): 0.14\n",
      "Epoch [26/200], Step [400/600], d_loss: 0.2059, g_loss: 4.3239, D(x): 0.94, D(G(z)): 0.08\n",
      "Epoch [26/200], Step [600/600], d_loss: 0.2863, g_loss: 4.8469, D(x): 0.95, D(G(z)): 0.15\n",
      "Epoch [27/200], Step [200/600], d_loss: 0.2110, g_loss: 4.4894, D(x): 0.94, D(G(z)): 0.08\n",
      "Epoch [27/200], Step [400/600], d_loss: 0.3531, g_loss: 2.7147, D(x): 0.88, D(G(z)): 0.09\n",
      "Epoch [27/200], Step [600/600], d_loss: 0.2145, g_loss: 3.8917, D(x): 0.92, D(G(z)): 0.07\n",
      "Epoch [28/200], Step [200/600], d_loss: 0.3269, g_loss: 2.8965, D(x): 0.93, D(G(z)): 0.07\n",
      "Epoch [28/200], Step [400/600], d_loss: 0.4425, g_loss: 2.9485, D(x): 0.91, D(G(z)): 0.18\n",
      "Epoch [28/200], Step [600/600], d_loss: 0.4916, g_loss: 3.4114, D(x): 0.82, D(G(z)): 0.07\n",
      "Epoch [29/200], Step [200/600], d_loss: 0.3285, g_loss: 5.3962, D(x): 0.85, D(G(z)): 0.02\n",
      "Epoch [29/200], Step [400/600], d_loss: 0.4224, g_loss: 4.3570, D(x): 0.84, D(G(z)): 0.10\n",
      "Epoch [29/200], Step [600/600], d_loss: 0.3511, g_loss: 3.4776, D(x): 0.90, D(G(z)): 0.12\n",
      "Epoch [30/200], Step [200/600], d_loss: 0.4449, g_loss: 3.5833, D(x): 0.85, D(G(z)): 0.07\n",
      "Epoch [30/200], Step [400/600], d_loss: 0.4233, g_loss: 3.4875, D(x): 0.90, D(G(z)): 0.15\n",
      "Epoch [30/200], Step [600/600], d_loss: 0.3736, g_loss: 3.0659, D(x): 0.89, D(G(z)): 0.12\n",
      "Epoch [31/200], Step [200/600], d_loss: 0.5321, g_loss: 3.7424, D(x): 0.92, D(G(z)): 0.20\n",
      "Epoch [31/200], Step [400/600], d_loss: 0.6845, g_loss: 2.9339, D(x): 0.80, D(G(z)): 0.10\n",
      "Epoch [31/200], Step [600/600], d_loss: 0.5525, g_loss: 2.8849, D(x): 0.82, D(G(z)): 0.12\n",
      "Epoch [32/200], Step [200/600], d_loss: 0.5043, g_loss: 3.5336, D(x): 0.86, D(G(z)): 0.12\n",
      "Epoch [32/200], Step [400/600], d_loss: 0.2908, g_loss: 2.7582, D(x): 0.86, D(G(z)): 0.06\n",
      "Epoch [32/200], Step [600/600], d_loss: 0.5209, g_loss: 3.0211, D(x): 0.88, D(G(z)): 0.18\n",
      "Epoch [33/200], Step [200/600], d_loss: 0.3070, g_loss: 4.2823, D(x): 0.90, D(G(z)): 0.11\n",
      "Epoch [33/200], Step [400/600], d_loss: 0.4912, g_loss: 2.4648, D(x): 0.84, D(G(z)): 0.13\n",
      "Epoch [33/200], Step [600/600], d_loss: 0.4126, g_loss: 3.9031, D(x): 0.86, D(G(z)): 0.09\n",
      "Epoch [34/200], Step [200/600], d_loss: 0.3064, g_loss: 4.8408, D(x): 0.88, D(G(z)): 0.07\n",
      "Epoch [34/200], Step [400/600], d_loss: 0.2690, g_loss: 4.7774, D(x): 0.89, D(G(z)): 0.07\n",
      "Epoch [34/200], Step [600/600], d_loss: 0.4927, g_loss: 4.1445, D(x): 0.93, D(G(z)): 0.20\n",
      "Epoch [35/200], Step [200/600], d_loss: 0.3707, g_loss: 3.5631, D(x): 0.87, D(G(z)): 0.09\n",
      "Epoch [35/200], Step [400/600], d_loss: 0.3873, g_loss: 3.7740, D(x): 0.88, D(G(z)): 0.14\n",
      "Epoch [35/200], Step [600/600], d_loss: 0.2001, g_loss: 3.9753, D(x): 0.93, D(G(z)): 0.08\n",
      "Epoch [36/200], Step [200/600], d_loss: 0.3278, g_loss: 3.5901, D(x): 0.90, D(G(z)): 0.12\n",
      "Epoch [36/200], Step [400/600], d_loss: 0.5488, g_loss: 2.5350, D(x): 0.91, D(G(z)): 0.27\n",
      "Epoch [36/200], Step [600/600], d_loss: 0.4328, g_loss: 2.8030, D(x): 0.89, D(G(z)): 0.16\n",
      "Epoch [37/200], Step [200/600], d_loss: 0.6185, g_loss: 2.9883, D(x): 0.91, D(G(z)): 0.28\n",
      "Epoch [37/200], Step [400/600], d_loss: 0.6037, g_loss: 3.3303, D(x): 0.80, D(G(z)): 0.12\n",
      "Epoch [37/200], Step [600/600], d_loss: 0.5171, g_loss: 2.6146, D(x): 0.83, D(G(z)): 0.16\n",
      "Epoch [38/200], Step [200/600], d_loss: 0.5445, g_loss: 3.7050, D(x): 0.77, D(G(z)): 0.04\n",
      "Epoch [38/200], Step [400/600], d_loss: 0.3057, g_loss: 3.3351, D(x): 0.86, D(G(z)): 0.06\n",
      "Epoch [38/200], Step [600/600], d_loss: 0.6279, g_loss: 3.2543, D(x): 0.89, D(G(z)): 0.27\n",
      "Epoch [39/200], Step [200/600], d_loss: 0.7407, g_loss: 2.5418, D(x): 0.78, D(G(z)): 0.16\n",
      "Epoch [39/200], Step [400/600], d_loss: 0.5743, g_loss: 2.4334, D(x): 0.79, D(G(z)): 0.12\n",
      "Epoch [39/200], Step [600/600], d_loss: 0.8520, g_loss: 3.3552, D(x): 0.86, D(G(z)): 0.32\n",
      "Epoch [40/200], Step [200/600], d_loss: 0.4204, g_loss: 2.7784, D(x): 0.81, D(G(z)): 0.07\n",
      "Epoch [40/200], Step [400/600], d_loss: 0.6204, g_loss: 4.3741, D(x): 0.79, D(G(z)): 0.15\n",
      "Epoch [40/200], Step [600/600], d_loss: 0.4613, g_loss: 2.9672, D(x): 0.88, D(G(z)): 0.20\n",
      "Epoch [41/200], Step [200/600], d_loss: 0.4016, g_loss: 3.2007, D(x): 0.90, D(G(z)): 0.17\n",
      "Epoch [41/200], Step [400/600], d_loss: 0.4869, g_loss: 3.0441, D(x): 0.90, D(G(z)): 0.20\n",
      "Epoch [41/200], Step [600/600], d_loss: 0.3361, g_loss: 3.3915, D(x): 0.91, D(G(z)): 0.14\n",
      "Epoch [42/200], Step [200/600], d_loss: 0.5176, g_loss: 3.1652, D(x): 0.78, D(G(z)): 0.09\n",
      "Epoch [42/200], Step [400/600], d_loss: 0.6176, g_loss: 2.8636, D(x): 0.89, D(G(z)): 0.25\n",
      "Epoch [42/200], Step [600/600], d_loss: 0.4527, g_loss: 2.8246, D(x): 0.83, D(G(z)): 0.11\n",
      "Epoch [43/200], Step [200/600], d_loss: 0.4970, g_loss: 2.5987, D(x): 0.85, D(G(z)): 0.15\n",
      "Epoch [43/200], Step [400/600], d_loss: 0.5818, g_loss: 3.0300, D(x): 0.84, D(G(z)): 0.19\n",
      "Epoch [43/200], Step [600/600], d_loss: 0.4321, g_loss: 2.7079, D(x): 0.90, D(G(z)): 0.21\n",
      "Epoch [44/200], Step [200/600], d_loss: 0.3589, g_loss: 3.8392, D(x): 0.88, D(G(z)): 0.14\n",
      "Epoch [44/200], Step [400/600], d_loss: 0.3351, g_loss: 3.4268, D(x): 0.90, D(G(z)): 0.14\n",
      "Epoch [44/200], Step [600/600], d_loss: 0.3278, g_loss: 4.7361, D(x): 0.89, D(G(z)): 0.10\n",
      "Epoch [45/200], Step [200/600], d_loss: 0.3156, g_loss: 3.8327, D(x): 0.88, D(G(z)): 0.09\n",
      "Epoch [45/200], Step [400/600], d_loss: 0.3266, g_loss: 2.9288, D(x): 0.92, D(G(z)): 0.13\n",
      "Epoch [45/200], Step [600/600], d_loss: 0.5054, g_loss: 4.0165, D(x): 0.79, D(G(z)): 0.09\n",
      "Epoch [46/200], Step [200/600], d_loss: 0.4842, g_loss: 2.8599, D(x): 0.86, D(G(z)): 0.16\n",
      "Epoch [46/200], Step [400/600], d_loss: 0.4017, g_loss: 3.4699, D(x): 0.86, D(G(z)): 0.15\n",
      "Epoch [46/200], Step [600/600], d_loss: 0.4189, g_loss: 3.2054, D(x): 0.84, D(G(z)): 0.11\n",
      "Epoch [47/200], Step [200/600], d_loss: 0.5663, g_loss: 3.8007, D(x): 0.81, D(G(z)): 0.16\n",
      "Epoch [47/200], Step [400/600], d_loss: 0.4887, g_loss: 3.4244, D(x): 0.83, D(G(z)): 0.13\n",
      "Epoch [47/200], Step [600/600], d_loss: 0.5633, g_loss: 1.9764, D(x): 0.80, D(G(z)): 0.19\n",
      "Epoch [48/200], Step [200/600], d_loss: 0.6071, g_loss: 2.2657, D(x): 0.86, D(G(z)): 0.22\n"
     ]
    }
   ],
   "source": [
    "# Start training\n",
    "total_step = len(data_loader)\n",
    "for epoch in range(num_epochs):\n",
    "    for i, (images, _) in enumerate(data_loader):\n",
    "        images = images.reshape(batch_size, -1).to(device)\n",
    "        \n",
    "        # Create the labels which are later used as input for the BCE loss\n",
    "        real_labels = torch.ones(batch_size, 1).to(device)\n",
    "        fake_labels = torch.zeros(batch_size, 1).to(device)\n",
    "\n",
    "        # ================================================================== #\n",
    "        #                      Train the discriminator                       #\n",
    "        # ================================================================== #\n",
    "\n",
    "        # Compute BCE_Loss using real images where BCE_Loss(x, y): - y * log(D(x)) - (1-y) * log(1 - D(x))\n",
    "        # Second term of the loss is always zero since real_labels == 1\n",
    "        outputs = D(images)\n",
    "        d_loss_real = criterion(outputs, real_labels)\n",
    "        real_score = outputs\n",
    "        \n",
    "        # Compute BCELoss using fake images\n",
    "        # First term of the loss is always zero since fake_labels == 0\n",
    "        z = torch.randn(batch_size, latent_size).to(device)\n",
    "        fake_images = G(z)\n",
    "        outputs = D(fake_images)\n",
    "        d_loss_fake = criterion(outputs, fake_labels)\n",
    "        fake_score = outputs\n",
    "        \n",
    "        # Backprop and optimize\n",
    "        d_loss = d_loss_real + d_loss_fake\n",
    "        reset_grad()\n",
    "        d_loss.backward()\n",
    "        d_optimizer.step()\n",
    "        \n",
    "        # ================================================================== #\n",
    "        #                        Train the generator                         #\n",
    "        # ================================================================== #\n",
    "\n",
    "        # Compute loss with fake images\n",
    "        z = torch.randn(batch_size, latent_size).to(device)\n",
    "        fake_images = G(z)\n",
    "        outputs = D(fake_images)\n",
    "        \n",
    "        # We train G to maximize log(D(G(z)) instead of minimizing log(1-D(G(z)))\n",
    "        # For the reason, see the last paragraph of section 3. https://arxiv.org/pdf/1406.2661.pdf\n",
    "        g_loss = criterion(outputs, real_labels)\n",
    "        \n",
    "        # Backprop and optimize\n",
    "        reset_grad()\n",
    "        g_loss.backward()\n",
    "        g_optimizer.step()\n",
    "        \n",
    "        if (i+1) % 200 == 0:\n",
    "            print('Epoch [{}/{}], Step [{}/{}], d_loss: {:.4f}, g_loss: {:.4f}, D(x): {:.2f}, D(G(z)): {:.2f}' \n",
    "                  .format(epoch, num_epochs, i+1, total_step, d_loss.item(), g_loss.item(), \n",
    "                          real_score.mean().item(), fake_score.mean().item()))\n",
    "    \n",
    "    # Save real images\n",
    "    if (epoch+1) == 1:\n",
    "        images = images.reshape(images.size(0), 1, 28, 28)\n",
    "        save_image(denorm(images), os.path.join(sample_dir, 'real_images.png'))\n",
    "    \n",
    "    # Save sampled images\n",
    "    fake_images = fake_images.reshape(fake_images.size(0), 1, 28, 28)\n",
    "    save_image(denorm(fake_images), os.path.join(sample_dir, 'fake_images-{}.png'.format(epoch+1)))"
   ]
  },
  {
   "cell_type": "code",
   "execution_count": null,
   "metadata": {},
   "outputs": [],
   "source": [
    "# Save the model checkpoints \n",
    "torch.save(G.state_dict(), 'G.ckpt')\n",
    "torch.save(D.state_dict(), 'D.ckpt')"
   ]
  },
  {
   "cell_type": "markdown",
   "metadata": {},
   "source": []
  },
  {
   "cell_type": "code",
   "execution_count": null,
   "metadata": {},
   "outputs": [],
   "source": []
  }
 ],
 "metadata": {
  "kernelspec": {
   "display_name": ".venv",
   "language": "python",
   "name": "python3"
  },
  "language_info": {
   "codemirror_mode": {
    "name": "ipython",
    "version": 3
   },
   "file_extension": ".py",
   "mimetype": "text/x-python",
   "name": "python",
   "nbconvert_exporter": "python",
   "pygments_lexer": "ipython3",
   "version": "3.12.6"
  }
 },
 "nbformat": 4,
 "nbformat_minor": 2
}
